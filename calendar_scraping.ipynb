{
 "cells": [
  {
   "cell_type": "markdown",
   "source": [
    "# Summary\n",
    "Implemented CCNY Calendar scraper by using the requests library to retrieve the HTML tags, then used BS4 to extract each table row from the tbody found, which corresponds to schedule. Simply stored the text of each table data into the DataFrame with the expected column names."
   ],
   "metadata": {
    "collapsed": false
   },
   "id": "ff76394d4ec1595d"
  },
  {
   "cell_type": "code",
   "outputs": [],
   "source": [
    "import requests\n",
    "from bs4 import BeautifulSoup\n",
    "import pandas as pd\n",
    "from datetime import datetime"
   ],
   "metadata": {
    "collapsed": false,
    "ExecuteTime": {
     "end_time": "2024-10-13T00:27:23.036977Z",
     "start_time": "2024-10-13T00:27:23.033803Z"
    }
   },
   "id": "ef5b235f4ccd3dd6",
   "execution_count": 67
  },
  {
   "cell_type": "code",
   "outputs": [],
   "source": [
    "# get page:\n",
    "ccny_page = 'https://www.ccny.cuny.edu/registrar/fall'\n",
    "r = requests.get(ccny_page)\n",
    "soup = BeautifulSoup(r.text, 'html.parser')\n",
    "soup.prettify()\n",
    "table = soup.find('tbody') # table contains all the table contents"
   ],
   "metadata": {
    "collapsed": false,
    "ExecuteTime": {
     "end_time": "2024-10-13T00:27:23.225689Z",
     "start_time": "2024-10-13T00:27:23.040972Z"
    }
   },
   "id": "7ff433086952c5e7",
   "execution_count": 68
  },
  {
   "cell_type": "code",
   "outputs": [],
   "source": [
    "# FUNCTION for converting scraped date -> Python datetime\n",
    "def conv_date(strng):\n",
    "    # two cases: single day or range days\n",
    "    if '2022' in strng:\n",
    "        date_str = strng.replace(',', '')\n",
    "    else:\n",
    "        date_str = strng + \" 2021\"\n",
    "    if '-' not in strng: # make sure to also consider that final day \"January 1, 2022\" which has diff format\n",
    "        return [datetime.strptime(date_str, \"%B %d %Y\").date()]\n",
    "    full_ranges = strng.split(' - ') # should just be two values always since its a range\n",
    "    start = datetime.strptime(full_ranges[0] + \" 2021\", \"%B %d %Y\").date()\n",
    "    # reuse start for end\n",
    "    end = start.replace(day=int(full_ranges[1]))\n",
    "    return [str(start) + \" to \" + str(end)]"
   ],
   "metadata": {
    "collapsed": false,
    "ExecuteTime": {
     "end_time": "2024-10-13T00:27:23.231209Z",
     "start_time": "2024-10-13T00:27:23.226684Z"
    }
   },
   "id": "e878f5d6c06344a7",
   "execution_count": 69
  },
  {
   "cell_type": "code",
   "outputs": [
    {
     "data": {
      "text/plain": "                                             dow  \\\ndates                                              \n[2021-08-01]                              Sunday   \n[2021-08-18]                           Wednesday   \n[2021-08-24]                             Tuesday   \n[2021-08-25]                           Wednesday   \n[2021-08-25 to 2021-08-31]   Wednesday - Tuesday   \n[2021-08-26]                            Thursday   \n[2021-08-28]                            Saturday   \n[2021-08-31]                             Tuesday   \n[2021-09-01]                           Wednesday   \n[2021-09-03 to 2021-09-08]    Friday - Wednesday   \n[2021-09-06]                              Monday   \n[2021-09-09]                            Thursday   \n[2021-09-14]                             Tuesday   \n[2021-09-15]                           Wednesday   \n[2021-09-15 to 2021-09-16]  Wednesday - Thursday   \n[2021-09-23]                            Thursday   \n[2021-09-24]                              Friday   \n[2021-10-01]                              Friday   \n[2021-10-08]                              Friday   \n[2021-10-11]                              Monday   \n[2021-11-01]                              Monday   \n[2021-11-02]                             Tuesday   \n[2021-11-04]                            Thursday   \n[2021-11-06]                            Saturday   \n[2021-11-23]                             Tuesday   \n[2021-11-25 to 2021-11-28]     Thursday - Sunday   \n[2021-12-11]                            Saturday   \n[2021-12-13]                              Monday   \n[2021-12-14]                             Tuesday   \n[2021-12-15 to 2021-12-21]   Wednesday - Tuesday   \n[2021-12-21]                             Tuesday   \n[2021-12-24 to 2021-12-25]     Friday - Saturday   \n[2021-12-27]                              Monday   \n[2021-12-28]                             Tuesday   \n[2021-12-31]                              Friday   \n[2022-01-01]                            Saturday   \n\n                                                                         text  \ndates                                                                          \n[2021-08-01]                Application for degree for January and Februar...  \n[2021-08-18]                               Last day to apply for Study Abroad  \n[2021-08-24]                Last day of Registration;Last day to file ePer...  \n[2021-08-25]                Start of Fall Term;Classes begin;Initial Regis...  \n[2021-08-25 to 2021-08-31]          Change of program period; late fees apply  \n[2021-08-26]                                   Last day for Independent Study  \n[2021-08-28]                                    First day of Saturday Classes  \n[2021-08-31]                Last day to add a class to an existing enrollm...  \n[2021-09-01]                Verification of Enrollment rosters available t...  \n[2021-09-03 to 2021-09-08]                               No classes scheduled  \n[2021-09-06]                  College Closed;Last day for 50% tuition refund;  \n[2021-09-09]                                             Freshman Convocation  \n[2021-09-14]                Last day for 25% tuition refund;Census date;La...  \n[2021-09-15]                Assignment of 'WN' grades for non-attendance;C...  \n[2021-09-15 to 2021-09-16]                               No classes scheduled  \n[2021-09-23]                Last day to submit proof of immunization for N...  \n[2021-09-24]                Assignment of 'WA' grades for immunization non...  \n[2021-10-01]                Advising month begins for Spring and Winter en...  \n[2021-10-08]                Deadline for filing application for degree for...  \n[2021-10-11]                                                   College Closed  \n[2021-11-01]                'INC' grades for Spring 2021 and Winter 2021 f...  \n[2021-11-02]                Registration appointments for Winter and Sprin...  \n[2021-11-04]                                 Last day to file for P/NC option  \n[2021-11-06]                                             60% Date of the term  \n[2021-11-23]                'INC' grades for Summer 2021 for Undergraduate...  \n[2021-11-25 to 2021-11-28]                                     College Closed  \n[2021-12-11]                                     Last day of Saturday Classes  \n[2021-12-13]                Course Withdrawal period ends (Last day to wit...  \n[2021-12-14]                                                      Reading Day  \n[2021-12-15 to 2021-12-21]                                 Final Examinations  \n[2021-12-21]                                                      End of Term  \n[2021-12-24 to 2021-12-25]                                     College Closed  \n[2021-12-27]                                                   College Closed  \n[2021-12-28]                    Final Grade Submission Deadline for Fall 2021  \n[2021-12-31]                                                   College Closed  \n[2022-01-01]                  College Closed;Fall 2021 Degree Conferral Date;  ",
      "text/html": "<div>\n<style scoped>\n    .dataframe tbody tr th:only-of-type {\n        vertical-align: middle;\n    }\n\n    .dataframe tbody tr th {\n        vertical-align: top;\n    }\n\n    .dataframe thead th {\n        text-align: right;\n    }\n</style>\n<table border=\"1\" class=\"dataframe\">\n  <thead>\n    <tr style=\"text-align: right;\">\n      <th></th>\n      <th>dow</th>\n      <th>text</th>\n    </tr>\n    <tr>\n      <th>dates</th>\n      <th></th>\n      <th></th>\n    </tr>\n  </thead>\n  <tbody>\n    <tr>\n      <th>[2021-08-01]</th>\n      <td>Sunday</td>\n      <td>Application for degree for January and Februar...</td>\n    </tr>\n    <tr>\n      <th>[2021-08-18]</th>\n      <td>Wednesday</td>\n      <td>Last day to apply for Study Abroad</td>\n    </tr>\n    <tr>\n      <th>[2021-08-24]</th>\n      <td>Tuesday</td>\n      <td>Last day of Registration;Last day to file ePer...</td>\n    </tr>\n    <tr>\n      <th>[2021-08-25]</th>\n      <td>Wednesday</td>\n      <td>Start of Fall Term;Classes begin;Initial Regis...</td>\n    </tr>\n    <tr>\n      <th>[2021-08-25 to 2021-08-31]</th>\n      <td>Wednesday - Tuesday</td>\n      <td>Change of program period; late fees apply</td>\n    </tr>\n    <tr>\n      <th>[2021-08-26]</th>\n      <td>Thursday</td>\n      <td>Last day for Independent Study</td>\n    </tr>\n    <tr>\n      <th>[2021-08-28]</th>\n      <td>Saturday</td>\n      <td>First day of Saturday Classes</td>\n    </tr>\n    <tr>\n      <th>[2021-08-31]</th>\n      <td>Tuesday</td>\n      <td>Last day to add a class to an existing enrollm...</td>\n    </tr>\n    <tr>\n      <th>[2021-09-01]</th>\n      <td>Wednesday</td>\n      <td>Verification of Enrollment rosters available t...</td>\n    </tr>\n    <tr>\n      <th>[2021-09-03 to 2021-09-08]</th>\n      <td>Friday - Wednesday</td>\n      <td>No classes scheduled</td>\n    </tr>\n    <tr>\n      <th>[2021-09-06]</th>\n      <td>Monday</td>\n      <td>College Closed;Last day for 50% tuition refund;</td>\n    </tr>\n    <tr>\n      <th>[2021-09-09]</th>\n      <td>Thursday</td>\n      <td>Freshman Convocation</td>\n    </tr>\n    <tr>\n      <th>[2021-09-14]</th>\n      <td>Tuesday</td>\n      <td>Last day for 25% tuition refund;Census date;La...</td>\n    </tr>\n    <tr>\n      <th>[2021-09-15]</th>\n      <td>Wednesday</td>\n      <td>Assignment of 'WN' grades for non-attendance;C...</td>\n    </tr>\n    <tr>\n      <th>[2021-09-15 to 2021-09-16]</th>\n      <td>Wednesday - Thursday</td>\n      <td>No classes scheduled</td>\n    </tr>\n    <tr>\n      <th>[2021-09-23]</th>\n      <td>Thursday</td>\n      <td>Last day to submit proof of immunization for N...</td>\n    </tr>\n    <tr>\n      <th>[2021-09-24]</th>\n      <td>Friday</td>\n      <td>Assignment of 'WA' grades for immunization non...</td>\n    </tr>\n    <tr>\n      <th>[2021-10-01]</th>\n      <td>Friday</td>\n      <td>Advising month begins for Spring and Winter en...</td>\n    </tr>\n    <tr>\n      <th>[2021-10-08]</th>\n      <td>Friday</td>\n      <td>Deadline for filing application for degree for...</td>\n    </tr>\n    <tr>\n      <th>[2021-10-11]</th>\n      <td>Monday</td>\n      <td>College Closed</td>\n    </tr>\n    <tr>\n      <th>[2021-11-01]</th>\n      <td>Monday</td>\n      <td>'INC' grades for Spring 2021 and Winter 2021 f...</td>\n    </tr>\n    <tr>\n      <th>[2021-11-02]</th>\n      <td>Tuesday</td>\n      <td>Registration appointments for Winter and Sprin...</td>\n    </tr>\n    <tr>\n      <th>[2021-11-04]</th>\n      <td>Thursday</td>\n      <td>Last day to file for P/NC option</td>\n    </tr>\n    <tr>\n      <th>[2021-11-06]</th>\n      <td>Saturday</td>\n      <td>60% Date of the term</td>\n    </tr>\n    <tr>\n      <th>[2021-11-23]</th>\n      <td>Tuesday</td>\n      <td>'INC' grades for Summer 2021 for Undergraduate...</td>\n    </tr>\n    <tr>\n      <th>[2021-11-25 to 2021-11-28]</th>\n      <td>Thursday - Sunday</td>\n      <td>College Closed</td>\n    </tr>\n    <tr>\n      <th>[2021-12-11]</th>\n      <td>Saturday</td>\n      <td>Last day of Saturday Classes</td>\n    </tr>\n    <tr>\n      <th>[2021-12-13]</th>\n      <td>Monday</td>\n      <td>Course Withdrawal period ends (Last day to wit...</td>\n    </tr>\n    <tr>\n      <th>[2021-12-14]</th>\n      <td>Tuesday</td>\n      <td>Reading Day</td>\n    </tr>\n    <tr>\n      <th>[2021-12-15 to 2021-12-21]</th>\n      <td>Wednesday - Tuesday</td>\n      <td>Final Examinations</td>\n    </tr>\n    <tr>\n      <th>[2021-12-21]</th>\n      <td>Tuesday</td>\n      <td>End of Term</td>\n    </tr>\n    <tr>\n      <th>[2021-12-24 to 2021-12-25]</th>\n      <td>Friday - Saturday</td>\n      <td>College Closed</td>\n    </tr>\n    <tr>\n      <th>[2021-12-27]</th>\n      <td>Monday</td>\n      <td>College Closed</td>\n    </tr>\n    <tr>\n      <th>[2021-12-28]</th>\n      <td>Tuesday</td>\n      <td>Final Grade Submission Deadline for Fall 2021</td>\n    </tr>\n    <tr>\n      <th>[2021-12-31]</th>\n      <td>Friday</td>\n      <td>College Closed</td>\n    </tr>\n    <tr>\n      <th>[2022-01-01]</th>\n      <td>Saturday</td>\n      <td>College Closed;Fall 2021 Degree Conferral Date;</td>\n    </tr>\n  </tbody>\n</table>\n</div>"
     },
     "execution_count": 70,
     "metadata": {},
     "output_type": "execute_result"
    }
   ],
   "source": [
    "# BUILDING the DataFrame table off scraping:\n",
    "temp_data = []\n",
    "for tr in table.find_all('tr'):\n",
    "    dates = tr.find('td', {'style': 'width:305px'})\n",
    "    dow = tr.find('td', {'style': 'width:327px'})\n",
    "    events = tr.find('td', {'style': 'width:617px'})\n",
    "    dates = dates.get_text(strip=True)\n",
    "    dow = dow.get_text(strip=True)\n",
    "    events = events.get_text(strip=True)\n",
    "    temp_data.append([dates, dow, events])\n",
    "df_ccny_cal = pd.DataFrame(temp_data, columns=['dates', 'dow', 'text'])\n",
    "df_ccny_cal[\"dates\"] = df_ccny_cal[\"dates\"].apply(conv_date)\n",
    "df_ccny_cal.set_index(\"dates\", inplace=True)\n",
    "df_ccny_cal.head(50)"
   ],
   "metadata": {
    "collapsed": false,
    "ExecuteTime": {
     "end_time": "2024-10-13T00:27:23.251211Z",
     "start_time": "2024-10-13T00:27:23.232207Z"
    }
   },
   "id": "9b8d6abc14be8687",
   "execution_count": 70
  }
 ],
 "metadata": {
  "kernelspec": {
   "display_name": "Python 3",
   "language": "python",
   "name": "python3"
  },
  "language_info": {
   "codemirror_mode": {
    "name": "ipython",
    "version": 2
   },
   "file_extension": ".py",
   "mimetype": "text/x-python",
   "name": "python",
   "nbconvert_exporter": "python",
   "pygments_lexer": "ipython2",
   "version": "2.7.6"
  }
 },
 "nbformat": 4,
 "nbformat_minor": 5
}
