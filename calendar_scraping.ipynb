{
 "cells": [
  {
   "cell_type": "markdown",
   "source": [
    "# Summary\n",
    "Implemented CCNY Calendar scraper by using the requests library to retrieve the HTML tags, then used BS4 to extract each table row from the tbody found, which corresponds to schedule. Simply stored the text of each table data into the DataFrame with the expected column names."
   ],
   "metadata": {
    "collapsed": false
   },
   "id": "ff76394d4ec1595d"
  },
  {
   "cell_type": "code",
   "outputs": [],
   "source": [
    "import requests\n",
    "from bs4 import BeautifulSoup\n",
    "import pandas as pd\n",
    "from datetime import datetime"
   ],
   "metadata": {
    "collapsed": false,
    "ExecuteTime": {
     "end_time": "2024-10-13T00:06:44.001774Z",
     "start_time": "2024-10-13T00:06:43.997774Z"
    }
   },
   "id": "ef5b235f4ccd3dd6",
   "execution_count": 4
  },
  {
   "cell_type": "code",
   "outputs": [],
   "source": [
    "# get page:\n",
    "ccny_page = 'https://www.ccny.cuny.edu/registrar/fall'\n",
    "r = requests.get(ccny_page)\n",
    "soup = BeautifulSoup(r.text, 'html.parser')\n",
    "soup.prettify()\n",
    "table = soup.find('tbody') # table contains all the table contents"
   ],
   "metadata": {
    "collapsed": false,
    "ExecuteTime": {
     "end_time": "2024-10-13T00:06:44.207593Z",
     "start_time": "2024-10-13T00:06:44.002774Z"
    }
   },
   "id": "7ff433086952c5e7",
   "execution_count": 5
  },
  {
   "cell_type": "code",
   "outputs": [],
   "source": [
    "# FUNCTION for converting scraped date -> Python datetime\n",
    "def conv_date(strng):\n",
    "    # two cases: single day or range days\n",
    "    if '2022' in strng:\n",
    "        date_str = strng.replace(',', '')\n",
    "    else:\n",
    "        date_str = strng + \" 2021\"\n",
    "    if '-' not in strng: # make sure to also consider that final day \"January 1, 2022\" which has diff format\n",
    "        return [datetime.strptime(date_str, \"%B %d %Y\")]\n",
    "    full_ranges = strng.split(' - ') # should just be two values always since its a range\n",
    "    start = datetime.strptime(full_ranges[0] + \" 2021\", \"%B %d %Y\")\n",
    "    # reuse start for end\n",
    "    end = start.replace(day=int(full_ranges[1]))\n",
    "    return [str(start) + \" to \" + str(end)]"
   ],
   "metadata": {
    "collapsed": false,
    "ExecuteTime": {
     "end_time": "2024-10-13T00:22:56.952913Z",
     "start_time": "2024-10-13T00:22:56.948873Z"
    }
   },
   "id": "e878f5d6c06344a7",
   "execution_count": 48
  },
  {
   "cell_type": "code",
   "outputs": [],
   "source": [
    "# BUILDING the DataFrame table off scraping:\n",
    "temp_data = []\n",
    "for tr in table.find_all('tr'):\n",
    "    dates = tr.find('td', {'style': 'width:305px'})\n",
    "    dow = tr.find('td', {'style': 'width:327px'})\n",
    "    events = tr.find('td', {'style': 'width:617px'})\n",
    "    dates = dates.get_text(strip=True)\n",
    "    dow = dow.get_text(strip=True)\n",
    "    events = events.get_text(strip=True)\n",
    "    temp_data.append([dates, dow, events])\n",
    "df_ccny_cal = pd.DataFrame(temp_data, columns=['dates', 'dow', 'text'])\n",
    "df_ccny_cal[\"dates\"] = df_ccny_cal[\"dates\"].apply(conv_date)\n",
    "df_ccny_cal.set_index(\"dates\", inplace=True)\n",
    "df_ccny_cal.head(50)"
   ],
   "metadata": {
    "collapsed": false
   },
   "id": "9b8d6abc14be8687",
   "execution_count": null
  }
 ],
 "metadata": {
  "kernelspec": {
   "display_name": "Python 3",
   "language": "python",
   "name": "python3"
  },
  "language_info": {
   "codemirror_mode": {
    "name": "ipython",
    "version": 2
   },
   "file_extension": ".py",
   "mimetype": "text/x-python",
   "name": "python",
   "nbconvert_exporter": "python",
   "pygments_lexer": "ipython2",
   "version": "2.7.6"
  }
 },
 "nbformat": 4,
 "nbformat_minor": 5
}
