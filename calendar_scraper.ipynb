{
 "cells": [
  {
   "cell_type": "markdown",
   "source": [
    "# Summary\n",
    "Implemented CCNY Calendar scraper by using the requests library to retrieve the HTML tags, then used BS4 to extract each table row from the tbody found, which corresponds to schedule. Simply stored the text of each table data into the DataFrame with the expected column names."
   ],
   "metadata": {
    "collapsed": false
   },
   "id": "738416deb323ec5"
  },
  {
   "cell_type": "code",
   "outputs": [],
   "source": [
    "import requests\n",
    "from bs4 import BeautifulSoup\n",
    "import pandas as pd"
   ],
   "metadata": {
    "collapsed": false
   },
   "id": "b3294e88dfbdb913"
  },
  {
   "cell_type": "code",
   "outputs": [],
   "source": [
    "# get page:\n",
    "ccny_page = 'https://www.ccny.cuny.edu/registrar/fall'\n",
    "r = requests.get(ccny_page)\n",
    "soup = BeautifulSoup(r.text, 'html.parser')\n",
    "soup.prettify()\n",
    "table = soup.find('tbody') # table contains all the table contents"
   ],
   "metadata": {
    "collapsed": false,
    "ExecuteTime": {
     "end_time": "2024-10-12T23:31:23.556685500Z",
     "start_time": "2024-10-12T23:31:23.298112100Z"
    }
   },
   "id": "61911cb410c76b62",
   "execution_count": 2
  },
  {
   "cell_type": "code",
   "outputs": [],
   "source": [
    "# BUILDING the DataFrame table off scraping:\n",
    "temp_data = []\n",
    "for tr in table.find_all('tr'):\n",
    "    dates = tr.find('td', {'style': 'width:305px'})\n",
    "    dow = tr.find('td', {'style': 'width:327px'})\n",
    "    events = tr.find('td', {'style': 'width:617px'})\n",
    "    dates = dates.get_text(strip=True)\n",
    "    dow = dow.get_text(strip=True)\n",
    "    events = events.get_text(strip=True)\n",
    "    temp_data.append([dates, dow, events])\n",
    "df_ccny_cal = pd.DataFrame(temp_data, columns=['dates', 'dow', 'text'])\n",
    "df_ccny_cal.set_index('dates', inplace=True)\n",
    "df_ccny_cal.head(20)"
   ],
   "metadata": {
    "collapsed": false
   },
   "id": "63bdf2761da275e4",
   "execution_count": null
  }
 ],
 "metadata": {
  "kernelspec": {
   "display_name": "Python 3",
   "language": "python",
   "name": "python3"
  },
  "language_info": {
   "codemirror_mode": {
    "name": "ipython",
    "version": 2
   },
   "file_extension": ".py",
   "mimetype": "text/x-python",
   "name": "python",
   "nbconvert_exporter": "python",
   "pygments_lexer": "ipython2",
   "version": "2.7.6"
  }
 },
 "nbformat": 4,
 "nbformat_minor": 5
}
