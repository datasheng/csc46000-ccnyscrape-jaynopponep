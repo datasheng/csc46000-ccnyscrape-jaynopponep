{
 "cells": [
  {
   "cell_type": "code",
   "execution_count": 2,
   "id": "initial_id",
   "metadata": {
    "collapsed": true,
    "ExecuteTime": {
     "end_time": "2024-10-12T22:50:51.099681300Z",
     "start_time": "2024-10-12T22:50:50.682965500Z"
    }
   },
   "outputs": [],
   "source": [
    "import requests\n",
    "from bs4 import BeautifulSoup"
   ]
  },
  {
   "cell_type": "code",
   "outputs": [
    {
     "name": "stdout",
     "output_type": "stream",
     "text": [
      "new row: August 01 Sunday Application for degree for January and February 2022 begins\n",
      "new row: August 18 Wednesday Last day to apply for Study Abroad\n",
      "new row: August 24 Tuesday Last day of Registration;Last day to file ePermit for the Fall 2021;Last day to drop classes for 100% tuition refund;\n",
      "new row: August 25 Wednesday Start of Fall Term;Classes begin;Initial Registration Appeals begin;\n",
      "new row: August 25 - 31 Wednesday - Tuesday Change of program period; late fees apply\n",
      "new row: August 26 Thursday Last day for Independent Study\n",
      "new row: August 28 Saturday First day of Saturday Classes\n",
      "new row: August 31 Tuesday Last day to add a class to an existing enrollment;Last day for 75% tuition refund;Financial Aid Certification Enrollment Status date;Last day to apply for Audit option;Last day to drop without the grade of 'WD';Initial Registration Appeals end;\n",
      "new row: September 01 Wednesday Verification of Enrollment rosters available to faculty;Course Withdrawal drop period begins (A grade of 'WD' is assigned to students who officially drop a class);\n",
      "new row: September 03 - 08 Friday - Wednesday No classes scheduled\n",
      "new row: September 06 Monday College Closed;Last day for 50% tuition refund;\n",
      "new row: September 09 Thursday Freshman Convocation\n",
      "new row: September 14 Tuesday Last day for 25% tuition refund;Census date;Last day to change or declare a major/minor to be effective in Fall 2021;Last day to drop without the grade of 'W';Course Withdrawal drop period ends (Last day for 'WD' grades);Verification of Enrollment Rosters Dues from Faculty;\n",
      "new row: September 15 Wednesday Assignment of 'WN' grades for non-attendance;Course Withdrawal period begins (A grade of 'W' is assigned to students who officially drop a class) - No Refund;100% Tuition obligation for course drops;\n",
      "new row: September 15 - 16 Wednesday - Thursday No classes scheduled\n",
      "new row: September 23 Thursday Last day to submit proof of immunization for NYS residents;\n",
      "new row: September 24 Friday Assignment of 'WA' grades for immunization non-compliance\n",
      "new row: October 01 Friday Advising month begins for Spring and Winter enrollment\n",
      "new row: October 08 Friday Deadline for filing application for degree for January and February 2022;Last day to submit proof of immunization for non-NYS residents;\n",
      "new row: October 11 Monday College Closed\n",
      "new row: November 01 Monday 'INC' grades for Spring 2021 and Winter 2021 for Undergraduate students convert to 'FIN';'INC' grades for Summer 2020 and Fall 2020 for Graduate students convert to 'FIN';\n",
      "new row: November 02 Tuesday Registration appointments for Winter and Spring 2022 begin for continuing students.  Check your CUNYFirst account for your appointment date and time.\n",
      "new row: November 04 Thursday Last day to file for P/NC option\n",
      "new row: November 06 Saturday 60% Date of the term\n",
      "new row: November 23 Tuesday 'INC' grades for Summer 2021 for Undergraduate students convert to 'FIN'\n",
      "new row: November 25 - 28 Thursday - Sunday College Closed\n",
      "new row: December 11 Saturday Last day of Saturday Classes\n",
      "new row: December 13 Monday Course Withdrawal period ends (Last day to withdraw from a class with the grade of 'W');Last day of Classes;\n",
      "new row: December 14 Tuesday Reading Day\n",
      "new row: December 15 - 21 Wednesday - Tuesday Final Examinations\n",
      "new row: December 21 Tuesday End of Term\n",
      "new row: December 24 - 25 Friday - Saturday College Closed\n",
      "new row: December 27 Monday College Closed\n",
      "new row: December 28 Tuesday Final Grade Submission Deadline for Fall 2021\n",
      "new row: December 31 Friday College Closed\n",
      "new row: January 1, 2022 Saturday College Closed;Fall 2021 Degree Conferral Date;\n"
     ]
    }
   ],
   "source": [
    "# get page:\n",
    "ccny_page = 'https://www.ccny.cuny.edu/registrar/fall'\n",
    "r = requests.get(ccny_page)\n",
    "soup = BeautifulSoup(r.text, 'html.parser')\n",
    "soup.prettify()\n",
    "table = soup.find('tbody') # table contains all the table contents\n",
    "#print(table)\n",
    "for tr in table.find_all('tr'):\n",
    "    dates = tr.find('td', {'style': 'width:305px'})\n",
    "    days = tr.find('td', {'style': 'width:327px'})\n",
    "    event = tr.find('td', {'style': 'width:617px'})\n",
    "    print(\"new row:\", dates.get_text(strip=True), days.get_text(strip=True), event.get_text(strip=True))"
   ],
   "metadata": {
    "collapsed": false,
    "ExecuteTime": {
     "end_time": "2024-10-12T23:15:53.497848800Z",
     "start_time": "2024-10-12T23:15:53.322800800Z"
    }
   },
   "id": "61911cb410c76b62",
   "execution_count": 39
  },
  {
   "cell_type": "code",
   "outputs": [],
   "source": [],
   "metadata": {
    "collapsed": false
   },
   "id": "63bdf2761da275e4"
  }
 ],
 "metadata": {
  "kernelspec": {
   "display_name": "Python 3",
   "language": "python",
   "name": "python3"
  },
  "language_info": {
   "codemirror_mode": {
    "name": "ipython",
    "version": 2
   },
   "file_extension": ".py",
   "mimetype": "text/x-python",
   "name": "python",
   "nbconvert_exporter": "python",
   "pygments_lexer": "ipython2",
   "version": "2.7.6"
  }
 },
 "nbformat": 4,
 "nbformat_minor": 5
}
