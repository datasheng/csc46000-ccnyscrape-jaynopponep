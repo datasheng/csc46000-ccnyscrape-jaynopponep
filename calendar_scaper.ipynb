{
 "cells": [
  {
   "cell_type": "markdown",
   "source": [
    "# Summary\n",
    "Implemented CCNY Calendar scraper by using the requests library to retrieve the HTML tags, then used BS4 to extract each table row from the tbody found, which corresponds to schedule. Simply stored the text of each table data into the DataFrame with the expected column names."
   ],
   "metadata": {
    "collapsed": false
   },
   "id": "738416deb323ec5"
  },
  {
   "cell_type": "code",
   "outputs": [],
   "source": [
    "import requests\n",
    "from bs4 import BeautifulSoup\n",
    "import pandas as pd"
   ],
   "metadata": {
    "collapsed": false
   },
   "id": "b3294e88dfbdb913"
  },
  {
   "cell_type": "code",
   "outputs": [],
   "source": [
    "# get page:\n",
    "ccny_page = 'https://www.ccny.cuny.edu/registrar/fall'\n",
    "r = requests.get(ccny_page)\n",
    "soup = BeautifulSoup(r.text, 'html.parser')\n",
    "soup.prettify()\n",
    "table = soup.find('tbody') # table contains all the table contents"
   ],
   "metadata": {
    "collapsed": false,
    "ExecuteTime": {
     "end_time": "2024-10-12T23:31:23.556685500Z",
     "start_time": "2024-10-12T23:31:23.298112100Z"
    }
   },
   "id": "61911cb410c76b62",
   "execution_count": 2
  },
  {
   "cell_type": "code",
   "outputs": [
    {
     "data": {
      "text/plain": "                                    dow  \\\ndates                                     \nAugust 01                        Sunday   \nAugust 18                     Wednesday   \nAugust 24                       Tuesday   \nAugust 25                     Wednesday   \nAugust 25 - 31      Wednesday - Tuesday   \nAugust 26                      Thursday   \nAugust 28                      Saturday   \nAugust 31                       Tuesday   \nSeptember 01                  Wednesday   \nSeptember 03 - 08    Friday - Wednesday   \nSeptember 06                     Monday   \nSeptember 09                   Thursday   \nSeptember 14                    Tuesday   \nSeptember 15                  Wednesday   \nSeptember 15 - 16  Wednesday - Thursday   \nSeptember 23                   Thursday   \nSeptember 24                     Friday   \nOctober 01                       Friday   \nOctober 08                       Friday   \nOctober 11                       Monday   \n\n                                                                text  \ndates                                                                 \nAugust 01          Application for degree for January and Februar...  \nAugust 18                         Last day to apply for Study Abroad  \nAugust 24          Last day of Registration;Last day to file ePer...  \nAugust 25          Start of Fall Term;Classes begin;Initial Regis...  \nAugust 25 - 31             Change of program period; late fees apply  \nAugust 26                             Last day for Independent Study  \nAugust 28                              First day of Saturday Classes  \nAugust 31          Last day to add a class to an existing enrollm...  \nSeptember 01       Verification of Enrollment rosters available t...  \nSeptember 03 - 08                               No classes scheduled  \nSeptember 06         College Closed;Last day for 50% tuition refund;  \nSeptember 09                                    Freshman Convocation  \nSeptember 14       Last day for 25% tuition refund;Census date;La...  \nSeptember 15       Assignment of 'WN' grades for non-attendance;C...  \nSeptember 15 - 16                               No classes scheduled  \nSeptember 23       Last day to submit proof of immunization for N...  \nSeptember 24       Assignment of 'WA' grades for immunization non...  \nOctober 01         Advising month begins for Spring and Winter en...  \nOctober 08         Deadline for filing application for degree for...  \nOctober 11                                            College Closed  ",
      "text/html": "<div>\n<style scoped>\n    .dataframe tbody tr th:only-of-type {\n        vertical-align: middle;\n    }\n\n    .dataframe tbody tr th {\n        vertical-align: top;\n    }\n\n    .dataframe thead th {\n        text-align: right;\n    }\n</style>\n<table border=\"1\" class=\"dataframe\">\n  <thead>\n    <tr style=\"text-align: right;\">\n      <th></th>\n      <th>dow</th>\n      <th>text</th>\n    </tr>\n    <tr>\n      <th>dates</th>\n      <th></th>\n      <th></th>\n    </tr>\n  </thead>\n  <tbody>\n    <tr>\n      <th>August 01</th>\n      <td>Sunday</td>\n      <td>Application for degree for January and Februar...</td>\n    </tr>\n    <tr>\n      <th>August 18</th>\n      <td>Wednesday</td>\n      <td>Last day to apply for Study Abroad</td>\n    </tr>\n    <tr>\n      <th>August 24</th>\n      <td>Tuesday</td>\n      <td>Last day of Registration;Last day to file ePer...</td>\n    </tr>\n    <tr>\n      <th>August 25</th>\n      <td>Wednesday</td>\n      <td>Start of Fall Term;Classes begin;Initial Regis...</td>\n    </tr>\n    <tr>\n      <th>August 25 - 31</th>\n      <td>Wednesday - Tuesday</td>\n      <td>Change of program period; late fees apply</td>\n    </tr>\n    <tr>\n      <th>August 26</th>\n      <td>Thursday</td>\n      <td>Last day for Independent Study</td>\n    </tr>\n    <tr>\n      <th>August 28</th>\n      <td>Saturday</td>\n      <td>First day of Saturday Classes</td>\n    </tr>\n    <tr>\n      <th>August 31</th>\n      <td>Tuesday</td>\n      <td>Last day to add a class to an existing enrollm...</td>\n    </tr>\n    <tr>\n      <th>September 01</th>\n      <td>Wednesday</td>\n      <td>Verification of Enrollment rosters available t...</td>\n    </tr>\n    <tr>\n      <th>September 03 - 08</th>\n      <td>Friday - Wednesday</td>\n      <td>No classes scheduled</td>\n    </tr>\n    <tr>\n      <th>September 06</th>\n      <td>Monday</td>\n      <td>College Closed;Last day for 50% tuition refund;</td>\n    </tr>\n    <tr>\n      <th>September 09</th>\n      <td>Thursday</td>\n      <td>Freshman Convocation</td>\n    </tr>\n    <tr>\n      <th>September 14</th>\n      <td>Tuesday</td>\n      <td>Last day for 25% tuition refund;Census date;La...</td>\n    </tr>\n    <tr>\n      <th>September 15</th>\n      <td>Wednesday</td>\n      <td>Assignment of 'WN' grades for non-attendance;C...</td>\n    </tr>\n    <tr>\n      <th>September 15 - 16</th>\n      <td>Wednesday - Thursday</td>\n      <td>No classes scheduled</td>\n    </tr>\n    <tr>\n      <th>September 23</th>\n      <td>Thursday</td>\n      <td>Last day to submit proof of immunization for N...</td>\n    </tr>\n    <tr>\n      <th>September 24</th>\n      <td>Friday</td>\n      <td>Assignment of 'WA' grades for immunization non...</td>\n    </tr>\n    <tr>\n      <th>October 01</th>\n      <td>Friday</td>\n      <td>Advising month begins for Spring and Winter en...</td>\n    </tr>\n    <tr>\n      <th>October 08</th>\n      <td>Friday</td>\n      <td>Deadline for filing application for degree for...</td>\n    </tr>\n    <tr>\n      <th>October 11</th>\n      <td>Monday</td>\n      <td>College Closed</td>\n    </tr>\n  </tbody>\n</table>\n</div>"
     },
     "execution_count": 8,
     "metadata": {},
     "output_type": "execute_result"
    }
   ],
   "source": [
    "# BUILDING the DataFrame table off scraping:\n",
    "temp_data = []\n",
    "for tr in table.find_all('tr'):\n",
    "    dates = tr.find('td', {'style': 'width:305px'})\n",
    "    dow = tr.find('td', {'style': 'width:327px'})\n",
    "    events = tr.find('td', {'style': 'width:617px'})\n",
    "    dates = dates.get_text(strip=True)\n",
    "    dow = dow.get_text(strip=True)\n",
    "    events = events.get_text(strip=True)\n",
    "    temp_data.append([dates, dow, events])\n",
    "df_ccny_cal = pd.DataFrame(temp_data, columns=['dates', 'dow', 'text'])\n",
    "df_ccny_cal.set_index('dates', inplace=True)\n",
    "df_ccny_cal.head(20)"
   ],
   "metadata": {
    "collapsed": false,
    "ExecuteTime": {
     "end_time": "2024-10-12T23:33:52.960976900Z",
     "start_time": "2024-10-12T23:33:52.945931Z"
    }
   },
   "id": "63bdf2761da275e4",
   "execution_count": 8
  },
  {
   "cell_type": "code",
   "outputs": [],
   "source": [],
   "metadata": {
    "collapsed": false,
    "ExecuteTime": {
     "start_time": "2024-10-12T23:31:23.564665800Z"
    }
   },
   "id": "b0753ff92bbe9f48"
  }
 ],
 "metadata": {
  "kernelspec": {
   "display_name": "Python 3",
   "language": "python",
   "name": "python3"
  },
  "language_info": {
   "codemirror_mode": {
    "name": "ipython",
    "version": 2
   },
   "file_extension": ".py",
   "mimetype": "text/x-python",
   "name": "python",
   "nbconvert_exporter": "python",
   "pygments_lexer": "ipython2",
   "version": "2.7.6"
  }
 },
 "nbformat": 4,
 "nbformat_minor": 5
}
